{
 "cells": [
  {
   "cell_type": "markdown",
   "id": "0f378f52",
   "metadata": {},
   "source": [
    "# Python Project: Build Your Own Phone Book\n",
    "\n",
    "Welcome! In this lesson, you'll create a command-line phone book application in Python, step by step. Each step will guide you with instructions, expected output, and helpful hints. Write your code in a separate `phonebook.py` file as you go.\n",
    "\n",
    "---"
   ]
  },
  {
   "cell_type": "markdown",
   "id": "f5cfce3d",
   "metadata": {},
   "source": [
    "## Step 1: Create Your Python File and Main Menu\n",
    "\n",
    "- Create a new file called `phonebook.py`.\n",
    "- Write a `main()` function that displays a menu with options to add, view, edit, delete, and exit.\n",
    "- Use a loop so the menu keeps showing until the user chooses to exit.\n",
    "\n",
    "**Expected Output:**\n",
    "```\n",
    "Phone Book Menu:\n",
    "1. Add Entry\n",
    "2. View Entries\n",
    "3. Edit Entry\n",
    "4. Delete Entry\n",
    "5. Exit\n",
    "Choose an option: \n",
    "```\n",
    "\n",
    "**Hint:**\n",
    "- Use a `while True:` loop and `input()` to get the user's choice.\n",
    "- Use `if`/`elif` to handle each menu option."
   ]
  },
  {
   "cell_type": "code",
   "execution_count": 2,
   "id": "155f6d26",
   "metadata": {},
   "outputs": [],
   "source": [
    "# Step 1 Project Here"
   ]
  },
  {
   "cell_type": "markdown",
   "id": "6e35bf2a",
   "metadata": {},
   "source": [
    "## Step 2: Make a Helper Input Function\n",
    "\n",
    "- Create a function that asks for input, and if the user types `exit`, the program should quit immediately.\n",
    "\n",
    "**Expected Output:**\n",
    "```\n",
    "Enter name: exit\n",
    "Goodbye!\n",
    "```\n",
    "\n",
    "**Hint:**\n",
    "- Use `input()` and check if the input (after `.strip().lower()`) is `'exit'`. If so, use `exit(0)`."
   ]
  },
  {
   "cell_type": "code",
   "execution_count": null,
   "id": "c705d6d2",
   "metadata": {},
   "outputs": [],
   "source": [
    "# Step 2 here"
   ]
  },
  {
   "cell_type": "markdown",
   "id": "85c7270e",
   "metadata": {},
   "source": [
    "## Step 3: Load Contacts from a File\n",
    "\n",
    "- Write a function to load contacts from a file called `contacts.json`.\n",
    "- If the file exists, load the contacts. If not, start with an empty list.\n",
    "\n",
    "**Expected Output:**\n",
    "```\n",
    "Loaded 2 contacts from contacts.json.\n",
    "```\n",
    "Or, if the file does not exist:\n",
    "```\n",
    "No contacts file found. Starting with an empty phonebook.\n",
    "```\n",
    "\n",
    "**Hint:**\n",
    "- Use `os.path.exists()` to check if the file exists.\n",
    "- Use `json.load()` to read the file, and handle exceptions for empty/corrupted files."
   ]
  },
  {
   "cell_type": "code",
   "execution_count": null,
   "id": "429bb0f2",
   "metadata": {},
   "outputs": [],
   "source": [
    "# Step 3 here"
   ]
  },
  {
   "cell_type": "markdown",
   "id": "776a5a8f",
   "metadata": {},
   "source": [
    "## Step 4: Save Contacts to a File\n",
    "\n",
    "- Write a function to save the phonebook list to `contacts.json` after any change (add, edit, delete).\n",
    "\n",
    "**Expected Output:**\n",
    "- There is no direct output, but your `contacts.json` file should update after each change.\n",
    "\n",
    "**Hint:**\n",
    "- Use `json.dump()` to write the list to the file. Use `indent=2` for readability."
   ]
  },
  {
   "cell_type": "code",
   "execution_count": null,
   "id": "1d8fdee2",
   "metadata": {},
   "outputs": [],
   "source": [
    "# Step 4 here"
   ]
  },
  {
   "cell_type": "markdown",
   "id": "498a77a6",
   "metadata": {},
   "source": [
    "## Step 5: Add a New Contact\n",
    "\n",
    "- Write a function to add a new contact (name, address, phone number) to the phonebook list.\n",
    "- After adding, save the updated list to the file.\n",
    "\n",
    "**Expected Output:**\n",
    "```\n",
    "Enter name: John Doe\n",
    "Enter address: 123 Main St\n",
    "Enter phone number: 555-1234\n",
    "Entry added.\n",
    "```\n",
    "\n",
    "**Hint:**\n",
    "- Use your helper input function for each field.\n",
    "- Append a dictionary to your list, then call your save function."
   ]
  },
  {
   "cell_type": "code",
   "execution_count": null,
   "id": "4c39c87c",
   "metadata": {},
   "outputs": [],
   "source": [
    "# Step 5 here"
   ]
  },
  {
   "cell_type": "markdown",
   "id": "5bc55ab6",
   "metadata": {},
   "source": [
    "## Step 6: View All Contacts\n",
    "\n",
    "- Write a function to display all contacts in the phonebook.\n",
    "\n",
    "**Expected Output:**\n",
    "```\n",
    "1. Name: John Doe, Address: 123 Main St, Phone: 555-1234\n",
    "2. Name: Jane Smith, Address: 456 Oak Ave, Phone: 555-5678\n",
    "```\n",
    "If there are no contacts:\n",
    "```\n",
    "No entries found.\n",
    "```\n",
    "\n",
    "**Hint:**\n",
    "- Use a `for` loop with `enumerate()` to print each contact with its number."
   ]
  },
  {
   "cell_type": "code",
   "execution_count": null,
   "id": "f29bd86d",
   "metadata": {},
   "outputs": [],
   "source": [
    "# Step 6 here"
   ]
  },
  {
   "cell_type": "markdown",
   "id": "4e2bce6e",
   "metadata": {},
   "source": [
    "## Step 7: Edit a Contact\n",
    "\n",
    "- Write a function to edit an existing contact.\n",
    "- Show the list, ask for the entry number, and prompt for new values (press Enter to keep old value).\n",
    "- Save the updated list after editing.\n",
    "\n",
    "**Expected Output:**\n",
    "```\n",
    "1. Name: John Doe, Address: 123 Main St, Phone: 555-1234\n",
    "2. Name: Jane Smith, Address: 456 Oak Ave, Phone: 555-5678\n",
    "Enter entry number to edit: 1\n",
    "Enter new name [John Doe]: Jonathan Doe\n",
    "Enter new address [123 Main St]:\n",
    "Enter new phone [555-1234]: 555-0000\n",
    "Entry updated.\n",
    "```\n",
    "\n",
    "**Hint:**\n",
    "- Use `input()` with a default value in brackets. If the user presses Enter, keep the old value."
   ]
  },
  {
   "cell_type": "code",
   "execution_count": null,
   "id": "d4678a2e",
   "metadata": {},
   "outputs": [],
   "source": [
    "# Step 7 here"
   ]
  },
  {
   "cell_type": "markdown",
   "id": "e9836283",
   "metadata": {},
   "source": [
    "## Step 8: Delete a Contact\n",
    "\n",
    "- Write a function to delete a contact from the phonebook.\n",
    "- Show the list, ask for the entry number, and remove that contact.\n",
    "- Save the updated list after deleting.\n",
    "\n",
    "**Expected Output:**\n",
    "```\n",
    "1. Name: John Doe, Address: 123 Main St, Phone: 555-1234\n",
    "2. Name: Jane Smith, Address: 456 Oak Ave, Phone: 555-5678\n",
    "Enter entry number to delete: 2\n",
    "Entry deleted.\n",
    "```\n",
    "If you enter an invalid number:\n",
    "```\n",
    "Invalid entry number.\n",
    "```\n",
    "\n",
    "**Hint:**\n",
    "- Use `del` to remove an item from the list by its index."
   ]
  },
  {
   "cell_type": "code",
   "execution_count": null,
   "id": "55611f03",
   "metadata": {},
   "outputs": [],
   "source": [
    "# Step 8 Here"
   ]
  },
  {
   "cell_type": "markdown",
   "id": "21a9cfa1",
   "metadata": {},
   "source": [
    "## Step 9: Put It All Together\n",
    "\n",
    "- Combine all your functions in the `main()` function.\n",
    "- When you run your program, it should load contacts, show the contact book, and display the menu.\n",
    "\n",
    "**Expected Output:**\n",
    "```\n",
    "--- Contact Book ---\n",
    "1. Name: John Doe, Address: 123 Main St, Phone: 555-1234\n",
    "2. Name: Jane Smith, Address: 456 Oak Ave, Phone: 555-5678\n",
    "\n",
    "Phone Book Menu:\n",
    "1. Add Entry\n",
    "2. View Entries\n",
    "3. Edit Entry\n",
    "4. Delete Entry\n",
    "5. Exit\n",
    "Choose an option: \n",
    "```\n",
    "If there are no contacts:\n",
    "```\n",
    "--- Contact Book ---\n",
    "No entries found.\n",
    "\n",
    "Phone Book Menu:\n",
    "1. Add Entry\n",
    "2. View Entries\n",
    "3. Edit Entry\n",
    "4. Delete Entry\n",
    "5. Exit\n",
    "Choose an option: \n",
    "```\n",
    "\n",
    "**Hint:**\n",
    "- Call your load function at the start, and your view function before the menu loop."
   ]
  },
  {
   "cell_type": "code",
   "execution_count": null,
   "id": "12dd2bb3",
   "metadata": {},
   "outputs": [],
   "source": [
    "# Step 9 here"
   ]
  }
 ],
 "metadata": {
  "kernelspec": {
   "display_name": "venv",
   "language": "python",
   "name": "python3"
  },
  "language_info": {
   "codemirror_mode": {
    "name": "ipython",
    "version": 3
   },
   "file_extension": ".py",
   "mimetype": "text/x-python",
   "name": "python",
   "nbconvert_exporter": "python",
   "pygments_lexer": "ipython3",
   "version": "3.12.6"
  }
 },
 "nbformat": 4,
 "nbformat_minor": 5
}
